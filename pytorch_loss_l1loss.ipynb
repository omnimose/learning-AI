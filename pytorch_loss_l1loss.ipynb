{
 "cells": [
  {
   "cell_type": "markdown",
   "metadata": {},
   "source": [
    "In PyTorch, `torch.nn.L1Loss` computes the mean absolute error (MAE) between the predicted values and the target values. The formula for L1 Loss is:\n",
    "\n",
    "$$\n",
    "\\text{L1Loss} = \\frac{1}{N} \\sum_{i=1}^{N} | \\text{input}_i - \\text{target}_i |\n",
    "$$\n",
    "\n",
    "where $ N $ is the number of elements.\n",
    "\n",
    "### `reduction` Parameter:\n",
    "- `\"mean\"` (default): Averages the loss over all elements.\n",
    "- `\"sum\"`: Sums the loss over all elements.\n",
    "- `\"none\"`: Returns the loss per element without reduction."
   ]
  },
  {
   "cell_type": "code",
   "execution_count": 1,
   "metadata": {},
   "outputs": [
    {
     "name": "stdout",
     "output_type": "stream",
     "text": [
      "tensor(1., grad_fn=<MeanBackward0>)\n"
     ]
    }
   ],
   "source": [
    "import torch\n",
    "import torch.nn as nn\n",
    "\n",
    "# Define the loss function\n",
    "l1_loss = nn.L1Loss()\n",
    "\n",
    "# Example tensors\n",
    "input_tensor = torch.tensor([2.0, 3.0, 4.0], requires_grad=True)\n",
    "target_tensor = torch.tensor([1.0, 2.0, 3.0])\n",
    "\n",
    "# Compute L1 loss\n",
    "loss = l1_loss(input_tensor, target_tensor)\n",
    "print(loss)  # Output: 1.0\n"
   ]
  },
  {
   "cell_type": "code",
   "execution_count": 4,
   "metadata": {},
   "outputs": [
    {
     "name": "stdout",
     "output_type": "stream",
     "text": [
      "tensor(3., grad_fn=<SumBackward0>)\n",
      "tensor([1., 1., 1.], grad_fn=<AbsBackward0>)\n"
     ]
    }
   ],
   "source": [
    "l1_loss_sum = nn.L1Loss(reduction='sum')\n",
    "loss_sum = l1_loss_sum(input_tensor, target_tensor)\n",
    "print(loss_sum)  # Output: 3.0\n",
    "\n",
    "\n",
    "l1_loss_none = nn.L1Loss(reduction='none')\n",
    "loss_none = l1_loss_none(input_tensor, target_tensor)\n",
    "print(loss_none)  # Output: 3.0\n"
   ]
  },
  {
   "cell_type": "code",
   "execution_count": 4,
   "metadata": {},
   "outputs": [
    {
     "name": "stdout",
     "output_type": "stream",
     "text": [
      "Input:  tensor([[ 0.3367,  0.1288,  0.2345,  0.2303, -1.1229],\n",
      "        [-0.1863,  2.2082, -0.6380,  0.4617,  0.2674],\n",
      "        [ 0.5349,  0.8094,  1.1103, -1.6898, -0.9890]], requires_grad=True)\n",
      "Target:  tensor([[ 0.9580,  1.3221,  0.8172, -0.7658, -0.7506],\n",
      "        [ 1.3525,  0.6863, -0.3278,  0.7950,  0.2815],\n",
      "        [ 0.0562,  0.5227, -0.2384, -0.0499,  0.5263]])\n",
      "Output (MAE Loss):  tensor(0.8502, grad_fn=<MeanBackward0>)\n"
     ]
    }
   ],
   "source": [
    "import torch\n",
    "import torch.nn as nn\n",
    "\n",
    "# Set seed for reproducibility\n",
    "torch.manual_seed(42)\n",
    "\n",
    "# Define input and target tensors\n",
    "input = torch.randn(3, 5, requires_grad=True)\n",
    "target = torch.randn(3, 5)\n",
    "\n",
    "# Define L1 Loss (Mean Absolute Error)\n",
    "mae_loss = nn.L1Loss()\n",
    "\n",
    "# Compute loss\n",
    "output = mae_loss(input, target)\n",
    "\n",
    "# Perform backpropagation\n",
    "output.backward()\n",
    "\n",
    "# Print results\n",
    "print(\"Input: \", input)\n",
    "print(\"Target: \", target)\n",
    "print(\"Output (MAE Loss): \", output)\n"
   ]
  },
  {
   "cell_type": "markdown",
   "metadata": {},
   "source": [
    "The **L1 Loss (Mean Absolute Error, MAE)** is computed as:\n",
    "\n",
    "$$\n",
    "L1Loss = \\frac{1}{N} \\sum | \\text{input}_i - \\text{target}_i |\n",
    "$$\n",
    "\n",
    "where \\( N \\) is the total number of elements.\n",
    "\n",
    "---\n",
    "\n",
    "### **Step 1: Compute Element-wise Absolute Differences**\n",
    "#### **First row:**\n",
    "$$\n",
    "|0.3367 - 0.9580| = 0.6213\n",
    "$$\n",
    "$$\n",
    "|0.1288 - 1.3221| = 1.1933\n",
    "$$\n",
    "$$\n",
    "|0.2345 - 0.8172| = 0.5827\n",
    "$$\n",
    "$$\n",
    "|0.2303 - (-0.7658)| = 0.9961\n",
    "$$\n",
    "$$\n",
    "|-1.1229 - (-0.7506)| = 0.3723\n",
    "$$\n",
    "\n",
    "#### **Second row:**\n",
    "$$\n",
    "|-0.1863 - 1.3525| = 1.5388\n",
    "$$\n",
    "$$\n",
    "|2.2082 - 0.6863| = 1.5219\n",
    "$$\n",
    "$$\n",
    "|-0.6380 - (-0.3278)| = 0.3102\n",
    "$$\n",
    "$$\n",
    "|0.4617 - 0.7950| = 0.3333\n",
    "$$\n",
    "$$\n",
    "|0.2674 - 0.2815| = 0.0141\n",
    "$$\n",
    "\n",
    "#### **Third row:**\n",
    "$$\n",
    "|0.5349 - 0.0562| = 0.4787\n",
    "$$\n",
    "$$\n",
    "|0.8094 - 0.5227| = 0.2867\n",
    "$$\n",
    "$$\n",
    "|1.1103 - (-0.2384)| = 1.3487\n",
    "$$\n",
    "$$\n",
    "|-1.6898 - (-0.0499)| = 1.6399\n",
    "$$\n",
    "$$\n",
    "|-0.9890 - 0.5263| = 1.5153\n",
    "$$\n",
    "\n",
    "---\n",
    "\n",
    "### **Step 2: Compute the Mean of These Values**\n",
    "$$\n",
    "\\frac{(0.6213 + 1.1933 + 0.5827 + 0.9961 + 0.3723 + 1.5388 + 1.5219 + 0.3102 + 0.3333 + 0.0141 + 0.4787 + 0.2867 + 1.3487 + 1.6399 + 1.5153)}{15}\n",
    "$$\n",
    "\n",
    "---\n",
    "\n",
    "### **Final Answer:**\n",
    "$$\n",
    "L1Loss = 0.8501\n",
    "$$\n",
    "\n",
    " 🚀"
   ]
  },
  {
   "cell_type": "code",
   "execution_count": 5,
   "metadata": {},
   "outputs": [
    {
     "name": "stdout",
     "output_type": "stream",
     "text": [
      "Absolute Differences:\n",
      " tensor([[0.6213, 1.1933, 0.5827, 0.9961, 0.3723],\n",
      "        [1.5388, 1.5219, 0.3102, 0.3333, 0.0141],\n",
      "        [0.4787, 0.2867, 1.3487, 1.6399, 1.5153]])\n",
      "Manual L1 Loss: 0.8502200245857239\n"
     ]
    }
   ],
   "source": [
    "import torch\n",
    "\n",
    "# Define input and target tensors\n",
    "input_tensor = torch.tensor([\n",
    "    [ 0.3367,  0.1288,  0.2345,  0.2303, -1.1229],\n",
    "    [-0.1863,  2.2082, -0.6380,  0.4617,  0.2674],\n",
    "    [ 0.5349,  0.8094,  1.1103, -1.6898, -0.9890]\n",
    "])\n",
    "\n",
    "target_tensor = torch.tensor([\n",
    "    [ 0.9580,  1.3221,  0.8172, -0.7658, -0.7506],\n",
    "    [ 1.3525,  0.6863, -0.3278,  0.7950,  0.2815],\n",
    "    [ 0.0562,  0.5227, -0.2384, -0.0499,  0.5263]\n",
    "])\n",
    "\n",
    "# Compute absolute differences manually\n",
    "abs_diff = torch.abs(input_tensor - target_tensor)\n",
    "\n",
    "# Compute mean of absolute differences\n",
    "l1_loss_manual = abs_diff.mean()\n",
    "\n",
    "# Print results\n",
    "print(\"Absolute Differences:\\n\", abs_diff)\n",
    "print(\"Manual L1 Loss:\", l1_loss_manual.item())\n"
   ]
  }
 ],
 "metadata": {
  "kernelspec": {
   "display_name": ".venv",
   "language": "python",
   "name": "python3"
  },
  "language_info": {
   "codemirror_mode": {
    "name": "ipython",
    "version": 3
   },
   "file_extension": ".py",
   "mimetype": "text/x-python",
   "name": "python",
   "nbconvert_exporter": "python",
   "pygments_lexer": "ipython3",
   "version": "3.11.9"
  }
 },
 "nbformat": 4,
 "nbformat_minor": 2
}
