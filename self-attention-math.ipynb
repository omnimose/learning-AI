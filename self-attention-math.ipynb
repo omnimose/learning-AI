{
 "cells": [
  {
   "cell_type": "code",
   "execution_count": 23,
   "metadata": {},
   "outputs": [],
   "source": [
    "import torch\n",
    "import torch.nn as nn\n",
    "import torch.nn.functional as F"
   ]
  },
  {
   "cell_type": "code",
   "execution_count": 15,
   "metadata": {},
   "outputs": [
    {
     "name": "stdout",
     "output_type": "stream",
     "text": [
      "Input tensor `x`:\n",
      "tensor([[[ 1.,  2.],\n",
      "         [ 3.,  4.],\n",
      "         [ 5.,  6.]],\n",
      "\n",
      "        [[ 7.,  8.],\n",
      "         [ 9., 10.],\n",
      "         [11., 12.]]])\n"
     ]
    }
   ],
   "source": [
    "B, T, C = 2, 3, 2  # Batch size = 2, Time steps = 3, Feature size = 2\n",
    "\n",
    "# Example tensor `x`\n",
    "x = torch.tensor([\n",
    "    [[1.0, 2.0], [3.0, 4.0], [5.0, 6.0]],    # Batch 1\n",
    "    [[7.0, 8.0], [9.0, 10.0], [11.0, 12.0]]  # Batch 2\n",
    "])\n",
    "\n",
    "print(\"Input tensor `x`:\")\n",
    "print(x)"
   ]
  },
  {
   "cell_type": "code",
   "execution_count": null,
   "metadata": {},
   "outputs": [],
   "source": [
    "# bag of words\n",
    "xbow = torch.zeros((B,T,C))\n",
    "print(\"xbow:\")\n",
    "print(xbow)\n",
    "for b in range(B):\n",
    "    for t in range(T):\n",
    "            xprev = x[b,:t+1]\n",
    "            print(\"xprev:\")\n",
    "            print(xprev)\n",
    "            xbow[b,t] = torch.mean(xprev,0)\n",
    "            print(\"xbow:\")\n",
    "            print(xbow)"
   ]
  },
  {
   "cell_type": "code",
   "execution_count": null,
   "metadata": {},
   "outputs": [],
   "source": [
    "cumulative_sum = torch.cumsum(x, dim=1)\n",
    "print(\"cumulative_sum:\")\n",
    "print(cumulative_sum)\n",
    "time_indices = torch.arange(1, T+1, device=x.device).view(1, T, 1)\n",
    "print(\"time_indices:\")\n",
    "print(time_indices)\n",
    "xbow2 = cumulative_sum / time_indices\n",
    "print(\"xbow2:\")\n",
    "print(xbow2)\n"
   ]
  },
  {
   "cell_type": "code",
   "execution_count": 34,
   "metadata": {},
   "outputs": [],
   "source": [
    "T, C = 8, 32\n",
    "x = torch.randn(T, C)\n",
    "\n",
    "head_size = 8\n",
    "query = nn.Linear(C, head_size)\n",
    "key = nn.Linear(C, head_size)\n",
    "value = nn.Linear(C, head_size)\n",
    "\n",
    "q = query(x)\n",
    "k = key(x)\n",
    "\n",
    "wei = q @ k.transpose(-2, -1)\n",
    "\n",
    "tril = torch.tril(torch.ones(T, T), diagonal=0)\n",
    "\n",
    "wei = wei.masked_fill(tril == 0, float('-inf'))\n",
    "wei = F.softmax(wei, dim=-1)\n",
    "\n",
    "v = value(x)\n",
    "out = wei @ v\n",
    "\n",
    "\n",
    "\n"
   ]
  },
  {
   "cell_type": "code",
   "execution_count": null,
   "metadata": {},
   "outputs": [],
   "source": [
    "print(\"wei:\")\n",
    "print(wei)"
   ]
  },
  {
   "cell_type": "code",
   "execution_count": null,
   "metadata": {},
   "outputs": [],
   "source": [
    "print(\"tril:\")\n",
    "print(tril)"
   ]
  },
  {
   "cell_type": "code",
   "execution_count": 35,
   "metadata": {},
   "outputs": [
    {
     "name": "stdout",
     "output_type": "stream",
     "text": [
      "out:\n",
      "tensor([[ 0.0649,  0.1602, -0.0311,  0.6902, -0.7329, -0.5998, -0.5210, -0.2716],\n",
      "        [-0.0886, -0.0320, -0.0311,  0.7142, -0.2816,  0.0311, -0.1482, -0.1849],\n",
      "        [-0.2431,  0.2085, -0.0192,  0.6746, -0.3607,  0.3686, -0.2317, -0.3600],\n",
      "        [-0.2869, -0.1572, -0.0683,  0.7051,  0.1820,  0.8295,  0.2040, -0.0929],\n",
      "        [ 0.1469,  0.0730, -0.2744,  0.5075, -0.3719, -0.0090, -0.4512,  0.1519],\n",
      "        [-0.0554,  0.3178, -0.1247,  0.4949, -0.1455,  0.5526, -0.1992, -0.0362],\n",
      "        [-0.0352,  0.1734, -0.1119,  0.5989, -0.1932,  0.3782, -0.2868,  0.0249],\n",
      "        [-0.3431,  0.4761, -0.1086,  0.6183, -0.0982,  0.5465,  0.0169, -0.0715]],\n",
      "       grad_fn=<MmBackward0>)\n"
     ]
    }
   ],
   "source": [
    "print(\"out:\")\n",
    "print(out)"
   ]
  }
 ],
 "metadata": {
  "kernelspec": {
   "display_name": ".venv",
   "language": "python",
   "name": "python3"
  },
  "language_info": {
   "codemirror_mode": {
    "name": "ipython",
    "version": 3
   },
   "file_extension": ".py",
   "mimetype": "text/x-python",
   "name": "python",
   "nbconvert_exporter": "python",
   "pygments_lexer": "ipython3",
   "version": "3.11.9"
  }
 },
 "nbformat": 4,
 "nbformat_minor": 2
}
