{
 "cells": [
  {
   "cell_type": "markdown",
   "id": "6bd5ee1b",
   "metadata": {},
   "source": [
    "https://www.youtube.com/watch?v=x9StQ8RZ0ag\n",
    "https://www.youtube.com/watch?v=tXE23653JrU\n"
   ]
  }
 ],
 "metadata": {
  "language_info": {
   "name": "python"
  }
 },
 "nbformat": 4,
 "nbformat_minor": 5
}
