{
 "cells": [
  {
   "cell_type": "markdown",
   "id": "6bd5ee1b",
   "metadata": {},
   "source": [
    "https://www.youtube.com/watch?v=x9StQ8RZ0ag\n",
    "https://www.youtube.com/watch?v=tXE23653JrU\n",
    "\n",
    "\n",
    "https://chatgpt.com/share/6885dc3e-da50-8004-8706-fb9b2d1eab6e => don't understand, check it later\n"
   ]
  }
 ],
 "metadata": {
  "language_info": {
   "name": "python"
  }
 },
 "nbformat": 4,
 "nbformat_minor": 5
}
