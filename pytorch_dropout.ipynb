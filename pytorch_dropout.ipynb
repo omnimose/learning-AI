{
 "cells": [
  {
   "cell_type": "code",
   "execution_count": 1,
   "id": "a6e47217",
   "metadata": {},
   "outputs": [],
   "source": [
    "import torch\n",
    "import torch.nn as nn"
   ]
  },
  {
   "cell_type": "markdown",
   "id": "8a8fb975",
   "metadata": {},
   "source": [
    "### Expected Output Behavior\n",
    "\n",
    "* `nn.Dropout(p=0.5)` randomly sets 50% of the tensor's elements to **zero** during training.\n",
    "* The remaining elements are **scaled up** by `1 / (1 - p) = 2.0` to keep the expected sum the same.\n",
    "\n",
    "\n",
    "Here's **why** the remaining values after dropout are scaled by `1 / (1 - p)`:\n",
    "\n",
    "Let’s say:\n",
    "\n",
    "* Your input is a tensor of ones: `x = [1, 1, 1, 1]`\n",
    "* Dropout probability `p = 0.5` (50% chance to zero out any element)\n",
    "\n",
    "**Without scaling:**\n",
    "\n",
    "* Suppose dropout randomly keeps `[1, 0, 1, 0]`\n",
    "* The average dropped value is 0.5 → network gets a weaker signal\n",
    "\n",
    "**To fix that**, PyTorch **scales the remaining elements** by `1 / (1 - p)` = `1 / 0.5` = `2.0`\n",
    "\n",
    "So the new tensor becomes:\n",
    "\n",
    "```\n",
    "[2, 0, 2, 0]\n",
    "```\n",
    "\n",
    "Now, the **expected value stays at 1**, which matches the original input.\n",
    "\n",
    "---\n",
    "\n",
    "### 🧠 Intuition\n",
    "\n",
    "For each element:\n",
    "\n",
    "* Probability of keeping it: `1 - p`\n",
    "* If we don’t scale: expected value = `(1 - p) * 1 + p * 0 = 1 - p`\n",
    "* To make the expected value = 1 again, we scale by `1 / (1 - p)`\n",
    "\n",
    "---\n",
    "\n",
    "### Note\n",
    "Dropout only works in training mode (model.train()). If you were evaluating, you'd call model.eval() and the dropout would not change the input."
   ]
  },
  {
   "cell_type": "code",
   "execution_count": 2,
   "id": "230be5af",
   "metadata": {},
   "outputs": [
    {
     "name": "stdout",
     "output_type": "stream",
     "text": [
      "Input Tensor:\n",
      "tensor([[1., 1., 1., 1., 1., 1.],\n",
      "        [1., 1., 1., 1., 1., 1.],\n",
      "        [1., 1., 1., 1., 1., 1.],\n",
      "        [1., 1., 1., 1., 1., 1.],\n",
      "        [1., 1., 1., 1., 1., 1.],\n",
      "        [1., 1., 1., 1., 1., 1.]])\n",
      "\n",
      "Output Tensor after applying Dropout:\n",
      "tensor([[2., 2., 0., 0., 2., 2.],\n",
      "        [0., 0., 2., 2., 2., 2.],\n",
      "        [0., 0., 2., 2., 2., 2.],\n",
      "        [0., 0., 0., 0., 2., 0.],\n",
      "        [2., 2., 2., 0., 2., 2.],\n",
      "        [2., 2., 2., 2., 0., 0.]])\n"
     ]
    }
   ],
   "source": [
    "dropout = nn.Dropout(p=0.5)\n",
    "\n",
    "example = torch.ones(6,6)\n",
    "\n",
    "print(\"Input Tensor:\")\n",
    "print(example)\n",
    "\n",
    "output = dropout(example)\n",
    "print(\"\\nOutput Tensor after applying Dropout:\")\n",
    "print(output)"
   ]
  }
 ],
 "metadata": {
  "kernelspec": {
   "display_name": ".venv",
   "language": "python",
   "name": "python3"
  },
  "language_info": {
   "codemirror_mode": {
    "name": "ipython",
    "version": 3
   },
   "file_extension": ".py",
   "mimetype": "text/x-python",
   "name": "python",
   "nbconvert_exporter": "python",
   "pygments_lexer": "ipython3",
   "version": "3.11.9"
  }
 },
 "nbformat": 4,
 "nbformat_minor": 5
}
