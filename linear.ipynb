{
 "cells": [
  {
   "cell_type": "code",
   "execution_count": 2,
   "metadata": {},
   "outputs": [],
   "source": [
    "import torch\n",
    "import torch.nn as nn"
   ]
  },
  {
   "cell_type": "code",
   "execution_count": 14,
   "metadata": {},
   "outputs": [
    {
     "name": "stdout",
     "output_type": "stream",
     "text": [
      "Parameter containing:\n",
      "tensor([[ 0.4213,  0.1826, -0.0869],\n",
      "        [ 0.1395, -0.1847, -0.5300],\n",
      "        [-0.2804,  0.3575,  0.4314],\n",
      "        [-0.3480, -0.2068,  0.0694]], requires_grad=True)\n"
     ]
    }
   ],
   "source": [
    "linear = nn.Linear(3, 4, bias=False)\n",
    "\n",
    "# weight is of the shape (4, 3)\n",
    "weight = linear.weight\n",
    "print(linear.weight)"
   ]
  },
  {
   "cell_type": "code",
   "execution_count": 15,
   "metadata": {},
   "outputs": [
    {
     "name": "stdout",
     "output_type": "stream",
     "text": [
      "tensor([[ 0.4213,  0.1395, -0.2804, -0.3480],\n",
      "        [ 0.1826, -0.1847,  0.3575, -0.2068],\n",
      "        [-0.0869, -0.5300,  0.4314,  0.0694]], grad_fn=<TransposeBackward0>)\n"
     ]
    }
   ],
   "source": [
    "weight = weight.transpose(0, 1)\n",
    "print(weight)"
   ]
  },
  {
   "cell_type": "code",
   "execution_count": 16,
   "metadata": {},
   "outputs": [
    {
     "name": "stdout",
     "output_type": "stream",
     "text": [
      "tensor([[ 0.5258, -1.8197,  1.7287, -0.5534]], grad_fn=<MmBackward0>)\n"
     ]
    }
   ],
   "source": [
    "input_tensor = torch.tensor([[1.0, 2.0, 3.0]])\n",
    "output_tensor = linear(input_tensor)\n",
    "print(output_tensor)"
   ]
  },
  {
   "cell_type": "code",
   "execution_count": 17,
   "metadata": {},
   "outputs": [
    {
     "name": "stdout",
     "output_type": "stream",
     "text": [
      "tensor([[ 0.5258, -1.8197,  1.7287, -0.5534]], grad_fn=<MmBackward0>)\n"
     ]
    }
   ],
   "source": [
    "# manually compute the output\n",
    "expected_output = input_tensor @ weight\n",
    "print(expected_output)"
   ]
  }
 ],
 "metadata": {
  "kernelspec": {
   "display_name": ".venv",
   "language": "python",
   "name": "python3"
  },
  "language_info": {
   "codemirror_mode": {
    "name": "ipython",
    "version": 3
   },
   "file_extension": ".py",
   "mimetype": "text/x-python",
   "name": "python",
   "nbconvert_exporter": "python",
   "pygments_lexer": "ipython3",
   "version": "3.11.9"
  }
 },
 "nbformat": 4,
 "nbformat_minor": 2
}
