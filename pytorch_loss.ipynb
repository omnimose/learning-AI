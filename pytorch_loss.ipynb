{
 "cells": [
  {
   "cell_type": "markdown",
   "metadata": {},
   "source": [
    "In PyTorch, `torch.nn.L1Loss` computes the mean absolute error (MAE) between the predicted values and the target values. The formula for L1 Loss is:\n",
    "\n",
    "$$\n",
    "\\text{L1Loss} = \\frac{1}{N} \\sum_{i=1}^{N} | \\text{input}_i - \\text{target}_i |\n",
    "$$\n",
    "\n",
    "where $ N $ is the number of elements.\n",
    "\n",
    "### `reduction` Parameter:\n",
    "- `\"mean\"` (default): Averages the loss over all elements.\n",
    "- `\"sum\"`: Sums the loss over all elements.\n",
    "- `\"none\"`: Returns the loss per element without reduction."
   ]
  },
  {
   "cell_type": "code",
   "execution_count": 1,
   "metadata": {},
   "outputs": [
    {
     "name": "stdout",
     "output_type": "stream",
     "text": [
      "tensor(1., grad_fn=<MeanBackward0>)\n"
     ]
    }
   ],
   "source": [
    "import torch\n",
    "import torch.nn as nn\n",
    "\n",
    "# Define the loss function\n",
    "l1_loss = nn.L1Loss()\n",
    "\n",
    "# Example tensors\n",
    "input_tensor = torch.tensor([2.0, 3.0, 4.0], requires_grad=True)\n",
    "target_tensor = torch.tensor([1.0, 2.0, 3.0])\n",
    "\n",
    "# Compute L1 loss\n",
    "loss = l1_loss(input_tensor, target_tensor)\n",
    "print(loss)  # Output: 1.0\n"
   ]
  },
  {
   "cell_type": "code",
   "execution_count": 4,
   "metadata": {},
   "outputs": [
    {
     "name": "stdout",
     "output_type": "stream",
     "text": [
      "tensor(3., grad_fn=<SumBackward0>)\n",
      "tensor([1., 1., 1.], grad_fn=<AbsBackward0>)\n"
     ]
    }
   ],
   "source": [
    "l1_loss_sum = nn.L1Loss(reduction='sum')\n",
    "loss_sum = l1_loss_sum(input_tensor, target_tensor)\n",
    "print(loss_sum)  # Output: 3.0\n",
    "\n",
    "\n",
    "l1_loss_none = nn.L1Loss(reduction='none')\n",
    "loss_none = l1_loss_none(input_tensor, target_tensor)\n",
    "print(loss_none)  # Output: 3.0\n"
   ]
  }
 ],
 "metadata": {
  "kernelspec": {
   "display_name": ".venv",
   "language": "python",
   "name": "python3"
  },
  "language_info": {
   "codemirror_mode": {
    "name": "ipython",
    "version": 3
   },
   "file_extension": ".py",
   "mimetype": "text/x-python",
   "name": "python",
   "nbconvert_exporter": "python",
   "pygments_lexer": "ipython3",
   "version": "3.11.9"
  }
 },
 "nbformat": 4,
 "nbformat_minor": 2
}
