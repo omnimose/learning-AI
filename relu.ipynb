{
 "cells": [
  {
   "cell_type": "code",
   "execution_count": 1,
   "metadata": {},
   "outputs": [
    {
     "name": "stdout",
     "output_type": "stream",
     "text": [
      "ReLU: [0 0 0 1 2]\n",
      "Leaky ReLU: [-0.02 -0.01  0.    1.    2.  ]\n",
      "PReLU (alpha=0.1): [-0.2 -0.1  0.   1.   2. ]\n",
      "ELU: [-0.86466472 -0.63212056  0.          1.          2.        ]\n"
     ]
    }
   ],
   "source": [
    "import numpy as np\n",
    "\n",
    "def relu(x):\n",
    "    return np.maximum(0, x)\n",
    "\n",
    "def leaky_relu(x, alpha=0.01):\n",
    "    return np.where(x > 0, x, alpha * x)\n",
    "\n",
    "def prelu(x, alpha):\n",
    "    return np.where(x > 0, x, alpha * x)  # alpha is a learnable parameter\n",
    "\n",
    "def elu(x, alpha=1.0):\n",
    "    return np.where(x > 0, x, alpha * (np.exp(x) - 1))\n",
    "\n",
    "# Example usage:\n",
    "x = np.array([-2, -1, 0, 1, 2])\n",
    "print(\"ReLU:\", relu(x))\n",
    "print(\"Leaky ReLU:\", leaky_relu(x))\n",
    "print(\"PReLU (alpha=0.1):\", prelu(x, alpha=0.1))\n",
    "print(\"ELU:\", elu(x))\n"
   ]
  }
 ],
 "metadata": {
  "kernelspec": {
   "display_name": ".venv",
   "language": "python",
   "name": "python3"
  },
  "language_info": {
   "codemirror_mode": {
    "name": "ipython",
    "version": 3
   },
   "file_extension": ".py",
   "mimetype": "text/x-python",
   "name": "python",
   "nbconvert_exporter": "python",
   "pygments_lexer": "ipython3",
   "version": "3.11.9"
  }
 },
 "nbformat": 4,
 "nbformat_minor": 2
}
