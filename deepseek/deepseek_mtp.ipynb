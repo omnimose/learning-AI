{
 "cells": [
  {
   "cell_type": "markdown",
   "id": "e5f5c79f",
   "metadata": {},
   "source": [
    "https://www.youtube.com/watch?v=lyHe8_JHoVI&list=PLPTV0NXA_ZSiOpKKlHCyOq9lnp-dLvlms&index=25"
   ]
  },
  {
   "cell_type": "code",
   "execution_count": 1,
   "id": "bbefcb7d",
   "metadata": {},
   "outputs": [],
   "source": [
    "import torch\n",
    "import torch.nn as nn\n",
    "import torch.nn.functional as F"
   ]
  },
  {
   "cell_type": "code",
   "execution_count": 3,
   "id": "29f3749e",
   "metadata": {},
   "outputs": [],
   "source": [
    "class RMSNorm(nn.Module):\n",
    "    def __init__(self, d_model, eps=1e-8):\n",
    "        super().__init__()        \n",
    "        self.eps = eps\n",
    "    \n",
    "    def forward(self, x):\n",
    "        norm = torch.sqrt(torch.mean(x ** 2, dim=-1, keepdim=True) + self.eps)\n",
    "        return x / norm"
   ]
  },
  {
   "cell_type": "code",
   "execution_count": null,
   "id": "8f7c7682",
   "metadata": {},
   "outputs": [],
   "source": []
  }
 ],
 "metadata": {
  "kernelspec": {
   "display_name": ".venv",
   "language": "python",
   "name": "python3"
  },
  "language_info": {
   "codemirror_mode": {
    "name": "ipython",
    "version": 3
   },
   "file_extension": ".py",
   "mimetype": "text/x-python",
   "name": "python",
   "nbconvert_exporter": "python",
   "pygments_lexer": "ipython3",
   "version": "3.11.9"
  }
 },
 "nbformat": 4,
 "nbformat_minor": 5
}
