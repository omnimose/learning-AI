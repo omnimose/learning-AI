{
 "cells": [
  {
   "cell_type": "markdown",
   "id": "b04862fb",
   "metadata": {},
   "source": [
    "https://medium.com/@mandalsouvik/safetensors-a-simple-and-safe-way-to-store-and-distribute-tensors-d9ba1931ba04\n",
    "\n",
    "pip install safetensors huggingface_hub"
   ]
  },
  {
   "cell_type": "code",
   "execution_count": 1,
   "id": "180239eb",
   "metadata": {},
   "outputs": [],
   "source": [
    "import torch\n",
    "from safetensors.torch import save_file\n",
    "\n",
    "tensors = {\n",
    "    \"embedding\": torch.zeros((2, 2)),\n",
    "    \"attention\": torch.zeros((2, 3))\n",
    "}\n",
    "save_file(tensors, \"model.safetensors\")"
   ]
  },
  {
   "cell_type": "code",
   "execution_count": 3,
   "id": "d2fff88f",
   "metadata": {},
   "outputs": [
    {
     "name": "stdout",
     "output_type": "stream",
     "text": [
      "{'attention': tensor([[0., 0., 0.],\n",
      "        [0., 0., 0.]]), 'embedding': tensor([[0., 0.],\n",
      "        [0., 0.]])}\n"
     ]
    }
   ],
   "source": [
    "from safetensors import safe_open\n",
    "\n",
    "tensors = {}\n",
    "# with safe_open(\"model.safetensors\", framework=\"pt\", device=0) as f:\n",
    "with safe_open(\"model.safetensors\", framework=\"pt\", device=\"cpu\") as f:\n",
    "    for k in f.keys():\n",
    "        tensors[k] = f.get_tensor(k) # loads the full tensor given a key\n",
    "print(tensors)"
   ]
  }
 ],
 "metadata": {
  "kernelspec": {
   "display_name": ".venv",
   "language": "python",
   "name": "python3"
  },
  "language_info": {
   "codemirror_mode": {
    "name": "ipython",
    "version": 3
   },
   "file_extension": ".py",
   "mimetype": "text/x-python",
   "name": "python",
   "nbconvert_exporter": "python",
   "pygments_lexer": "ipython3",
   "version": "3.11.9"
  }
 },
 "nbformat": 4,
 "nbformat_minor": 5
}
