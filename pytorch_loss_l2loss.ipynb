{
 "cells": [
  {
   "cell_type": "markdown",
   "metadata": {},
   "source": [
    "`torch.nn.MSELoss` is a loss function in PyTorch that computes the mean squared error (MSE) between the predicted values and the target values. It is commonly used for regression tasks.\n",
    "\n",
    "The formula for **Mean Squared Error (MSE) Loss** is:\n",
    "\n",
    "$$\n",
    "\\text{MSE} = \\frac{1}{N} \\sum_{i=1}^{N} (y_i - \\hat{y}_i)^2\n",
    "$$\n",
    "\n",
    "### Explanation:\n",
    "- $ N $ = Number of samples\n",
    "- $ y_i $ = True target value for the $ i $-th sample\n",
    "- $ \\hat{y}_i $ = Predicted value for the $ i $-th sample\n",
    "- $ (y_i - \\hat{y}_i)^2 $ = Squared difference (error) between actual and predicted values\n",
    "- The **mean** (sum divided by $ N $) ensures the loss is averaged over all samples.\n",
    "\n",
    "## Parameters:\n",
    "- `reduction`: Specifies how to reduce the loss.\n",
    "  - `'mean'` (default) → Returns the average of all squared errors.\n",
    "  - `'sum'` → Returns the sum of all squared errors.\n",
    "  - `'none'` → Returns the loss per element without reduction.\n"
   ]
  },
  {
   "cell_type": "code",
   "execution_count": null,
   "metadata": {},
   "outputs": [
    {
     "name": "stdout",
     "output_type": "stream",
     "text": [
      "tensor(0.5625)\n"
     ]
    }
   ],
   "source": [
    "import torch\n",
    "import torch.nn as nn\n",
    "\n",
    "criterion = nn.MSELoss(reduction='mean')  # Default is 'mean'\n",
    "\n",
    "# Example tensors\n",
    "pred = torch.tensor([2.5, 0.0, 2.0, 8.0])\n",
    "target = torch.tensor([3.0, -1.0, 2.0, 7.0])\n",
    "\n",
    "criterion = nn.MSELoss()\n",
    "loss = criterion(pred, target)\n",
    "\n",
    "print(loss)  # Output: tensor(0.5625)\n"
   ]
  },
  {
   "cell_type": "markdown",
   "metadata": {},
   "source": [
    "Let's manually calculate the **Mean Squared Error (MSE) Loss** for the given example.\n",
    "\n",
    "### **Given values:**\n",
    "$$\n",
    "\\text{pred} = [2.5, 0.0, 2.0, 8.0]\n",
    "$$\n",
    "$$\n",
    "\\text{target} = [3.0, -1.0, 2.0, 7.0]\n",
    "$$\n",
    "\n",
    "### **Step 1: Compute Squared Errors**\n",
    "$$\n",
    "(2.5 - 3.0)^2 = (-0.5)^2 = 0.25\n",
    "$$\n",
    "$$\n",
    "(0.0 - (-1.0))^2 = (1.0)^2 = 1.00\n",
    "$$\n",
    "$$\n",
    "(2.0 - 2.0)^2 = (0.0)^2 = 0.00\n",
    "$$\n",
    "$$\n",
    "(8.0 - 7.0)^2 = (1.0)^2 = 1.00\n",
    "$$\n",
    "\n",
    "### **Step 2: Sum the Squared Errors**\n",
    "$$\n",
    "0.25 + 1.00 + 0.00 + 1.00 = 2.25\n",
    "$$\n",
    "\n",
    "### **Step 3: Compute the Mean**\n",
    "$$\n",
    "\\frac{2.25}{4} = 0.5625\n",
    "$$\n",
    "\n"
   ]
  },
  {
   "cell_type": "code",
   "execution_count": 5,
   "metadata": {},
   "outputs": [
    {
     "name": "stdout",
     "output_type": "stream",
     "text": [
      "Squared Errors: tensor([0.2500, 1.0000, 0.0000, 1.0000])\n",
      "Manual MSE Loss: 0.5625\n",
      "PyTorch MSE Loss: 0.5625\n"
     ]
    }
   ],
   "source": [
    "import torch\n",
    "\n",
    "# Given tensors\n",
    "pred = torch.tensor([2.5, 0.0, 2.0, 8.0])\n",
    "target = torch.tensor([3.0, -1.0, 2.0, 7.0])\n",
    "\n",
    "# Step 1: Compute squared errors\n",
    "squared_errors = (pred - target) ** 2\n",
    "\n",
    "# Step 2: Compute the mean squared error\n",
    "mse_loss = squared_errors.mean()\n",
    "\n",
    "print(f\"Squared Errors: {squared_errors}\")  # Should print tensor([0.25, 1.00, 0.00, 1.00])\n",
    "print(f\"Manual MSE Loss: {mse_loss.item()}\")  # Should print 0.5625\n",
    "\n",
    "# Verify using PyTorch MSELoss\n",
    "import torch.nn as nn\n",
    "criterion = nn.MSELoss()\n",
    "pytorch_loss = criterion(pred, target)\n",
    "\n",
    "print(f\"PyTorch MSE Loss: {pytorch_loss.item()}\")  # Should match 0.5625\n"
   ]
  }
 ],
 "metadata": {
  "kernelspec": {
   "display_name": ".venv",
   "language": "python",
   "name": "python3"
  },
  "language_info": {
   "codemirror_mode": {
    "name": "ipython",
    "version": 3
   },
   "file_extension": ".py",
   "mimetype": "text/x-python",
   "name": "python",
   "nbconvert_exporter": "python",
   "pygments_lexer": "ipython3",
   "version": "3.11.9"
  }
 },
 "nbformat": 4,
 "nbformat_minor": 2
}
